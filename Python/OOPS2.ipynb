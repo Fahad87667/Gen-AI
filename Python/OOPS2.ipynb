{
 "cells": [
  {
   "cell_type": "markdown",
   "metadata": {},
   "source": [
    "## Encapsulation \n",
    "is a concept where we restrict direct access to certain methods or variables in a class and allow controlled access via getter and setter methods."
   ]
  },
  {
   "cell_type": "code",
   "execution_count": 4,
   "metadata": {},
   "outputs": [
    {
     "name": "stdout",
     "output_type": "stream",
     "text": [
      "Account owner: Fahad Khan\n",
      "Initial balance: 1000\n",
      "Deposited 500. New balance is 1500.\n",
      "Deposit amount must be positive!\n",
      "Withdrew 300. New balance is 1200.\n",
      "Insufficient balance or invalid amount!\n",
      "Final balance: 1200\n"
     ]
    }
   ],
   "source": [
    "# Encapsulation is a concept where we restrict direct access to certain methods or variables in a class\n",
    "# and allow controlled access via getter and setter methods.\n",
    "\n",
    "class BankAccount:\n",
    "    def __init__(self, owner, balance):\n",
    "        # The variables starting with an underscore _ or double underscore __ are considered private\n",
    "        # Here, __balance is a private variable that cannot be accessed directly outside the class\n",
    "        self.owner = owner  # public variable\n",
    "        self.__balance = balance  # private variable\n",
    "\n",
    "    # Getter method to access the private variable __balance\n",
    "    def get_balance(self):\n",
    "        return self.__balance\n",
    "\n",
    "    # Setter method to modify the private variable __balance\n",
    "    def deposit(self, amount):\n",
    "        # We check if the deposit amount is valid (i.e., positive)\n",
    "        if amount > 0:\n",
    "            self.__balance += amount\n",
    "            print(f\"Deposited {amount}. New balance is {self.__balance}.\")\n",
    "        else:\n",
    "            print(\"Deposit amount must be positive!\")\n",
    "\n",
    "    def withdraw(self, amount):\n",
    "        # We check if there are enough funds to withdraw\n",
    "        if 0 < amount <= self.__balance:\n",
    "            self.__balance -= amount\n",
    "            print(f\"Withdrew {amount}. New balance is {self.__balance}.\")\n",
    "        else:\n",
    "            print(\"Insufficient balance or invalid amount!\")\n",
    "\n",
    "# Creating an instance of BankAccount\n",
    "account = BankAccount(\"Fahad Khan\", 1000)\n",
    "\n",
    "# Accessing the public variable 'owner'\n",
    "print(f\"Account owner: {account.owner}\")\n",
    "\n",
    "# Trying to access the private variable __balance directly will result in an error\n",
    "# Uncommenting the below line will raise an AttributeError\n",
    "# print(account.__balance)  # This is not allowed as __balance is private\n",
    "\n",
    "# Accessing the private variable __balance using the getter method\n",
    "print(f\"Initial balance: {account.get_balance()}\")\n",
    "\n",
    "account.deposit(500)\n",
    "\n",
    "account.deposit(-100)\n",
    "\n",
    "account.withdraw(300)\n",
    "\n",
    "account.withdraw(2000)\n",
    "print(f\"Final balance: {account.get_balance()}\")\n"
   ]
  },
  {
   "cell_type": "markdown",
   "metadata": {},
   "source": [
    "## Abstraction \n",
    "- Abstraction is another OOP principle, where only essential details are exposed to the user, and internal implementation is hidden. This allows for cleaner, simpler interfaces without exposing the complexity behind the scenes."
   ]
  },
  {
   "cell_type": "code",
   "execution_count": 5,
   "metadata": {},
   "outputs": [
    {
     "name": "stdout",
     "output_type": "stream",
     "text": [
      "Processing credit card payment of 1000.\n",
      "Processing PayPal payment of 500.\n"
     ]
    }
   ],
   "source": [
    "from abc import ABC, abstractmethod\n",
    "\n",
    "# Abstract class representing a Payment system\n",
    "class Payment(ABC):\n",
    "    @abstractmethod\n",
    "    def process_payment(self, amount):\n",
    "        # Abstract method to be implemented by subclasses\n",
    "        pass\n",
    "\n",
    "# Concrete class for Credit Card payment\n",
    "class CreditCardPayment(Payment):\n",
    "    def process_payment(self, amount):\n",
    "        # Implementation of abstract method\n",
    "        print(f\"Processing credit card payment of {amount}.\")\n",
    "\n",
    "# Concrete class for PayPal payment\n",
    "class PayPalPayment(Payment):\n",
    "    def process_payment(self, amount):\n",
    "        # Implementation of abstract method\n",
    "        print(f\"Processing PayPal payment of {amount}.\")\n",
    "\n",
    "# Client code\n",
    "def make_payment(payment_method, amount):\n",
    "    payment_method.process_payment(amount)\n",
    "\n",
    "# Using abstraction to handle different payment methods without knowing implementation details\n",
    "payment1 = CreditCardPayment()\n",
    "payment2 = PayPalPayment()\n",
    "\n",
    "make_payment(payment1, 1000)\n",
    "make_payment(payment2, 500)   \n"
   ]
  },
  {
   "cell_type": "code",
   "execution_count": null,
   "metadata": {},
   "outputs": [],
   "source": []
  }
 ],
 "metadata": {
  "kernelspec": {
   "display_name": "FirstsVenv",
   "language": "python",
   "name": "python3"
  },
  "language_info": {
   "codemirror_mode": {
    "name": "ipython",
    "version": 3
   },
   "file_extension": ".py",
   "mimetype": "text/x-python",
   "name": "python",
   "nbconvert_exporter": "python",
   "pygments_lexer": "ipython3",
   "version": "3.12.4"
  }
 },
 "nbformat": 4,
 "nbformat_minor": 2
}
