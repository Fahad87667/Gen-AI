{
 "cells": [
  {
   "cell_type": "code",
   "execution_count": 1,
   "metadata": {},
   "outputs": [
    {
     "name": "stdout",
     "output_type": "stream",
     "text": [
      "Hello world\n"
     ]
    }
   ],
   "source": [
    "## Read a whole file\n",
    "with open('Example.txt', mode='r') as file:\n",
    "    content = file.read()\n",
    "    print(content)"
   ]
  },
  {
   "cell_type": "code",
   "execution_count": 6,
   "metadata": {},
   "outputs": [
    {
     "name": "stdout",
     "output_type": "stream",
     "text": [
      "Hello\n",
      "world\n"
     ]
    }
   ],
   "source": [
    "## Read a file line by line\n",
    "with open(\"Example.txt\",'r') as file:\n",
    "    for line in file:\n",
    "        print(line.strip()) ## Removes the new line character"
   ]
  },
  {
   "cell_type": "code",
   "execution_count": 14,
   "metadata": {},
   "outputs": [],
   "source": [
    "## Writing a file( Overwriting)\n",
    "with open('Example.txt', 'w') as file:\n",
    "    file.write(\"New Line \\n\")\n",
    "    file.write(\"Second Line \\n\")\n"
   ]
  },
  {
   "cell_type": "code",
   "execution_count": 15,
   "metadata": {},
   "outputs": [],
   "source": [
    "## Writing in continous manner ( without overwriting)\n",
    "with open('Example.txt', 'a') as file:\n",
    "    file.write(\"Hello world\")\n"
   ]
  },
  {
   "cell_type": "code",
   "execution_count": 18,
   "metadata": {},
   "outputs": [
    {
     "data": {
      "text/plain": [
       "(4, 59, 363)"
      ]
     },
     "execution_count": 18,
     "metadata": {},
     "output_type": "execute_result"
    }
   ],
   "source": [
    "## Count line counts , word counts, character counts\n",
    "\n",
    "def count_text_file(file_path):\n",
    "    with open(file_path, \"r\") as files:\n",
    "        lines = files.readlines()\n",
    "        line_counts = len(lines)\n",
    "        word_counts = sum(len(line.split()) for line in lines)\n",
    "        char_count = sum(len(line) for line in lines)\n",
    "\n",
    "    return line_counts, word_counts, char_count\n",
    "\n",
    "count_text_file(\"Example.txt\")"
   ]
  },
  {
   "cell_type": "code",
   "execution_count": 23,
   "metadata": {},
   "outputs": [
    {
     "name": "stdout",
     "output_type": "stream",
     "text": [
      "Stay focused, believe in yourself, and never stop growing.\n",
      "Success is built on perseverance—so keep going, one step at a time, and you’ll reach your goals!\n"
     ]
    }
   ],
   "source": [
    "# WE can use w+ to first write then read the file\n",
    "with open(\"Example.txt\", \"w+\") as file:\n",
    "    file.write(\"Stay focused, believe in yourself, and never stop growing.\\n\")\n",
    "    file.write(\"Success is built on perseverance—so keep going, one step at a time, and you’ll reach your goals!\")\n",
    "\n",
    "# Move cursor to the beginniing to start read operation\n",
    "    file.seek(0)\n",
    "\n",
    "# read\n",
    "    contents = file.read()\n",
    "print(contents)"
   ]
  },
  {
   "cell_type": "code",
   "execution_count": null,
   "metadata": {},
   "outputs": [],
   "source": [
    "\n",
    "\n"
   ]
  }
 ],
 "metadata": {
  "kernelspec": {
   "display_name": "FirstsVenv",
   "language": "python",
   "name": "python3"
  },
  "language_info": {
   "codemirror_mode": {
    "name": "ipython",
    "version": 3
   },
   "file_extension": ".py",
   "mimetype": "text/x-python",
   "name": "python",
   "nbconvert_exporter": "python",
   "pygments_lexer": "ipython3",
   "version": "3.12.4"
  }
 },
 "nbformat": 4,
 "nbformat_minor": 2
}
