{
 "cells": [
  {
   "cell_type": "markdown",
   "metadata": {},
   "source": [
    "### Exceptions\n",
    " Exceptions ara events that disrupt the normal flow of a program. They occur when an error is encountered during program execution. \n",
    " Common Exceptions include :\n",
    " - ZeroDivisionError\n",
    " - FilNotFoundError\n",
    " - ValueError\n",
    " - TypeError"
   ]
  },
  {
   "cell_type": "code",
   "execution_count": 7,
   "metadata": {},
   "outputs": [
    {
     "name": "stdout",
     "output_type": "stream",
     "text": [
      "name 'b' is not defined\n"
     ]
    }
   ],
   "source": [
    "# Namerror\n",
    "try:\n",
    "    a = b\n",
    "\n",
    "except NameError as k:\n",
    "    print(k)"
   ]
  },
  {
   "cell_type": "code",
   "execution_count": 19,
   "metadata": {},
   "outputs": [
    {
     "name": "stdout",
     "output_type": "stream",
     "text": [
      "division by zero\n",
      "Please check denominator\n"
     ]
    }
   ],
   "source": [
    "# ZerodivisionError\n",
    "try:\n",
    "    print(10/0)\n",
    "    \n",
    "except ZeroDivisionError as zero:\n",
    "    print(zero)\n",
    "    print(\"Please check denominator\")"
   ]
  },
  {
   "cell_type": "code",
   "execution_count": 26,
   "metadata": {},
   "outputs": [
    {
     "name": "stdout",
     "output_type": "stream",
     "text": [
      "division by zero\n",
      "Please check denominator\n"
     ]
    }
   ],
   "source": [
    "# More than one exceptions\n",
    "try:\n",
    "    10/0\n",
    "    a = b\n",
    "\n",
    "except ZeroDivisionError as zero:\n",
    "    print(zero)\n",
    "    print(\"Please check denominator\")\n",
    "\n",
    "except Exception as ex1:\n",
    "    print(ex1)\n"
   ]
  },
  {
   "cell_type": "code",
   "execution_count": 31,
   "metadata": {},
   "outputs": [
    {
     "name": "stdout",
     "output_type": "stream",
     "text": [
      "Invalid Value\n"
     ]
    }
   ],
   "source": [
    "try:\n",
    "    num = int(input(\"Enter NUMBER\"))\n",
    "    result = 10 / num\n",
    "    print(result)\n",
    "except ValueError:\n",
    "    print(\"Invalid Value\")\n",
    "\n",
    "except ZeroDivisionError:\n",
    "    print(\"Denominator should be Greater than 0\")\n",
    "\n",
    "except Exception as e:\n",
    "    print(e)"
   ]
  },
  {
   "cell_type": "markdown",
   "metadata": {},
   "source": [
    "- Try Except Else Block\n"
   ]
  },
  {
   "cell_type": "code",
   "execution_count": 35,
   "metadata": {},
   "outputs": [
    {
     "name": "stdout",
     "output_type": "stream",
     "text": [
      "1.1111111111111112\n",
      "Execution Completed\n"
     ]
    }
   ],
   "source": [
    "# Try Except Else Block\n",
    "try:\n",
    "    num = int(input(\"Enter NUMBER\"))\n",
    "    result = 10 / num\n",
    "    \n",
    "\n",
    "\n",
    "except ValueError:\n",
    "    print(\"Invalid Value\")\n",
    "\n",
    "except ZeroDivisionError:\n",
    "    print(\"Denominator should be Greater than 0\")\n",
    "\n",
    "except Exception as e:\n",
    "    print(e)\n",
    "\n",
    "else:\n",
    "    print(result)\n",
    "\n",
    "finally:\n",
    "    print('Execution Completed')"
   ]
  },
  {
   "cell_type": "code",
   "execution_count": null,
   "metadata": {},
   "outputs": [],
   "source": []
  }
 ],
 "metadata": {
  "kernelspec": {
   "display_name": "FirstsVenv",
   "language": "python",
   "name": "python3"
  },
  "language_info": {
   "codemirror_mode": {
    "name": "ipython",
    "version": 3
   },
   "file_extension": ".py",
   "mimetype": "text/x-python",
   "name": "python",
   "nbconvert_exporter": "python",
   "pygments_lexer": "ipython3",
   "version": "3.12.4"
  }
 },
 "nbformat": 4,
 "nbformat_minor": 2
}
