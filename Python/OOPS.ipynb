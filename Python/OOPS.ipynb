{
 "cells": [
  {
   "cell_type": "markdown",
   "metadata": {},
   "source": [
    "- Object Oriented Programming\n"
   ]
  },
  {
   "cell_type": "code",
   "execution_count": 1,
   "metadata": {},
   "outputs": [],
   "source": [
    "## Class is a blueprint for creating objects\n",
    "class car:\n",
    "    ## Constructor\n",
    "    def __init__(self,name, model):\n",
    "        # Instance Varaibles\n",
    "        self.name = name\n",
    "        self.model = model\n",
    "\n",
    "# Creating Objects\n",
    "Car1  = car(\"AUDI\",4)\n"
   ]
  },
  {
   "cell_type": "code",
   "execution_count": 2,
   "metadata": {},
   "outputs": [
    {
     "data": {
      "text/plain": [
       "'AUDI'"
      ]
     },
     "execution_count": 2,
     "metadata": {},
     "output_type": "execute_result"
    }
   ],
   "source": [
    "Car1.name"
   ]
  },
  {
   "cell_type": "code",
   "execution_count": 3,
   "metadata": {},
   "outputs": [],
   "source": [
    "## Defining class with Instance methods\n",
    "class car:\n",
    "    ## Constructor\n",
    "    def __init__(self,name, model):\n",
    "        # Instance Varaibles\n",
    "        self.name = name\n",
    "        self.model = model\n",
    "\n",
    "    # Instance methods(functions)\n",
    "    def speed(self):\n",
    "        print(f\"{self.name} Speed is 200+ KPH\")\n",
    "\n",
    "# Creating Objects\n",
    "car1  = car(\"AUDI\",4)"
   ]
  },
  {
   "cell_type": "code",
   "execution_count": 4,
   "metadata": {},
   "outputs": [
    {
     "name": "stdout",
     "output_type": "stream",
     "text": [
      "AUDI Speed is 200+ KPH\n"
     ]
    }
   ],
   "source": [
    "car1.speed()"
   ]
  },
  {
   "cell_type": "code",
   "execution_count": 5,
   "metadata": {},
   "outputs": [
    {
     "name": "stdout",
     "output_type": "stream",
     "text": [
      "2000 is credited to your account. Current balance 2000.\n",
      "200 is debited from your account. Current balance 1800.\n"
     ]
    },
    {
     "data": {
      "text/plain": [
       "1800"
      ]
     },
     "execution_count": 5,
     "metadata": {},
     "output_type": "execute_result"
    }
   ],
   "source": [
    "## Modelling a bank account\n",
    "class Bank:\n",
    "    # constructor\n",
    "    def __init__(self, owner,balance=0):\n",
    "        self.owner = owner\n",
    "        self.balance = balance\n",
    "\n",
    "    # Depositing Money\n",
    "    def deposit(self,amount):\n",
    "        self.balance += amount\n",
    "        print(f\"{amount} is credited to your account. Current balance {self.balance}.\")\n",
    "\n",
    "    # withdrawing money\n",
    "    def withdraw(self,amount):\n",
    "        if amount > self.balance:\n",
    "            print(\"Insufficient balance.\")\n",
    "        else:\n",
    "            self.balance -= amount\n",
    "            print(f\"{amount} is debited from your account. Current balance {self.balance}.\")\n",
    "\n",
    "    def check_balance(self):\n",
    "        return self.balance\n",
    "    \n",
    "acc = Bank(\"Fahad\")\n",
    "acc.deposit(2000)\n",
    "acc.withdraw(200)\n",
    "acc.check_balance()"
   ]
  },
  {
   "cell_type": "markdown",
   "metadata": {},
   "source": [
    "#### Inheritance \n",
    "- Inherits attributs and methods from different classes"
   ]
  },
  {
   "cell_type": "code",
   "execution_count": 6,
   "metadata": {},
   "outputs": [
    {
     "name": "stdout",
     "output_type": "stream",
     "text": [
      "Buddy, the Golden Retriever, barks.\n",
      "Kaalu meows.\n"
     ]
    }
   ],
   "source": [
    "# Base class (also called the parent class or superclass)\n",
    "class Animal:\n",
    "    # Constructor method to initialize common properties of animals\n",
    "    def __init__(self, name):\n",
    "        self.name = name\n",
    "\n",
    "    # Method common to all animals\n",
    "    def speak(self):\n",
    "        print(f\"{self.name} makes a sound.\")\n",
    "\n",
    "# Derived class (child class or subclass) that inherits from Animal\n",
    "class Dog(Animal):\n",
    "    # Constructor to initialize the specific properties of Dog\n",
    "    def __init__(self, name, breed):\n",
    "        # Call the parent class constructor using super()\n",
    "        super().__init__(name)\n",
    "        self.breed = breed\n",
    "\n",
    "    # Method specific to Dog class, overrides the Animal's speak method\n",
    "    def speak(self):\n",
    "        print(f\"{self.name}, the {self.breed}, barks.\")\n",
    "\n",
    "# Derived class Cat inherits from Animal\n",
    "class Cat(Animal):\n",
    "    # Constructor for Cat, with only the name attribute\n",
    "    def __init__(self, name):\n",
    "        super().__init__(name)\n",
    "\n",
    "    # Cat-specific speak method\n",
    "    def speak(self):\n",
    "        print(f\"{self.name} meows.\")\n",
    "\n",
    "# Creating instances of Dog and Cat classes\n",
    "dog = Dog(\"Buddy\", \"Golden Retriever\")\n",
    "cat = Cat(\"Kaalu\")\n",
    "\n",
    "# Calling the speak method from each instance\n",
    "dog.speak()\n",
    "cat.speak() \n"
   ]
  },
  {
   "cell_type": "markdown",
   "metadata": {},
   "source": [
    "#### Polymorphism\n",
    "- Allows objects of different classes to be treated as objects of a common superclass. \n",
    "- It provides a way to  to perform a single action in different forms.\n",
    "- Polymorphism is typically achieved through method overriding and interfaces.\n",
    "\n",
    "#### Method Overriding \n",
    "- Method Overriding allows a child class to provide specific implementation of a method that is already defined in its parent class."
   ]
  },
  {
   "cell_type": "code",
   "execution_count": 11,
   "metadata": {},
   "outputs": [
    {
     "name": "stdout",
     "output_type": "stream",
     "text": [
      "Meow!!\n"
     ]
    }
   ],
   "source": [
    "## Base class\n",
    "class Animal:\n",
    "    def speak(self):\n",
    "        return \"Sound of an Animal\"\n",
    "    \n",
    "# Dervide class\n",
    "class Dog(Animal):\n",
    "    def speak(self):\n",
    "        return \"Woof!!\"\n",
    "    \n",
    "class Cat(Animal):\n",
    "    def speak(self):\n",
    "        return \"Meow!!\"\n",
    "    \n",
    "## Functions demonstration of Polymorphism\n",
    "def animal_speak(animal):\n",
    "    print(animal.speak())\n",
    "\n",
    "\n",
    "dog = Dog()\n",
    "cat = Cat()\n",
    "\n",
    "dog.speak()\n",
    "cat.speak()\n",
    "animal_speak(cat)"
   ]
  },
  {
   "cell_type": "code",
   "execution_count": null,
   "metadata": {},
   "outputs": [],
   "source": []
  }
 ],
 "metadata": {
  "kernelspec": {
   "display_name": "FirstsVenv",
   "language": "python",
   "name": "python3"
  },
  "language_info": {
   "codemirror_mode": {
    "name": "ipython",
    "version": 3
   },
   "file_extension": ".py",
   "mimetype": "text/x-python",
   "name": "python",
   "nbconvert_exporter": "python",
   "pygments_lexer": "ipython3",
   "version": "3.12.4"
  }
 },
 "nbformat": 4,
 "nbformat_minor": 2
}
