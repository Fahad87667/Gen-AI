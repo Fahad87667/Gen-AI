{
 "cells": [
  {
   "cell_type": "markdown",
   "metadata": {},
   "source": [
    "# TF-IDF in Natural Language Processing\n",
    "\n",
    "## What is TF-IDF?\n",
    "\n",
    "**TF-IDF** stands for **Term Frequency-Inverse Document Frequency**. It helps us understand how important a word is in a document compared to a collection of documents (called a corpus).\n",
    "\n",
    "## Key Parts of TF-IDF\n",
    "\n",
    "1. **Term Frequency (TF)**:\n",
    "   - This measures how often a word appears in a specific document. If a word appears many times in the document, its importance (TF) increases.\n",
    "\n",
    "2. **Inverse Document Frequency (IDF)**:\n",
    "   - This tells us how common or rare a word is across all documents. If a word is found in many documents, it is less important. So, its IDF value decreases.\n",
    "\n",
    "## How to Calculate TF-IDF\n",
    "\n",
    "- To get the TF-IDF score for a word in a document, you multiply its term frequency (how often it appears in that document) by its inverse document frequency (how rare it is in the entire set of documents). \n",
    "\n",
    "## Example\n",
    "\n",
    "Imagine you have a document that contains the words: \"the cat in the hat\".\n",
    "\n",
    "- If the total number of words is 6, and the word \"cat\" appears once, its term frequency would be about 0.17 (1 divided by 6).\n",
    "  \n",
    "- If you have 100 documents and the word \"cat\" appears in 10 of them, then \"cat\" is somewhat common. Its inverse document frequency would be around 1 (because you divide the total documents by the number of documents containing \"cat\").\n",
    "\n",
    "- To find the TF-IDF score for \"cat\" in your document, you multiply the TF (0.17) by the IDF (1), which equals about 0.17.\n",
    "\n",
    "## Why Use TF-IDF?\n",
    "\n",
    "1. **Text Classification**: It helps categorize documents.\n",
    "2. **Information Retrieval**: It improves search engine results. Capture Word Importance.\n",
    "3. **Document Clustering**: It groups similar documents together.\n",
    "4. **Keyword Extraction**: It identifies important words in a document.\n",
    "\n",
    "## Limitations of TF-IDF\n",
    "\n",
    "1. **Sparsity**: It can create many empty spots in data.\n",
    "2. **Context Ignorance**: It doesn’t consider the context in which a word is used.\n",
    "3. **Fixed Length Vectors**: It can lead to a fixed size for all documents.\n",
    "4. **Sensitivity to Noise**: It may be affected by irrelevant information.\n"
   ]
  },
  {
   "cell_type": "markdown",
   "metadata": {},
   "source": []
  },
  {
   "cell_type": "markdown",
   "metadata": {},
   "source": []
  },
  {
   "cell_type": "code",
   "execution_count": null,
   "metadata": {},
   "outputs": [],
   "source": []
  },
  {
   "cell_type": "code",
   "execution_count": null,
   "metadata": {},
   "outputs": [],
   "source": []
  }
 ],
 "metadata": {
  "language_info": {
   "name": "python"
  }
 },
 "nbformat": 4,
 "nbformat_minor": 2
}
