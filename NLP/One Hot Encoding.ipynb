{
 "cells": [
  {
   "cell_type": "markdown",
   "metadata": {},
   "source": [
    "## One Hot Encoding\n",
    "\n",
    "### What is One Hot Encoding?\n",
    "   - A way to change words or labels into numbers that computers can understand.\n",
    "   - Represents each item with a unique array containing only one `1` and the rest `0`s.\n",
    "\n",
    "### Why Use It?\n",
    "   - Computers understand numbers, not words.\n",
    "   - Helps convert labels into a format that can be used in machine learning.\n",
    "\n",
    "### How It Works\n",
    "   1. Make a list of all unique items.\n",
    "   2. Assign each item a unique code:\n",
    "      - The length of the code is equal to the number of unique items.\n",
    "      - Only one `1` in each code, rest are `0`s.\n",
    "\n",
    "### Example\n",
    "\n",
    "- *Fruits*\n",
    "   - Apple = `[1, 0, 0]`\n",
    "   - Banana = `[0, 1, 0]`\n",
    "   - Cherry = `[0, 0, 1]`\n",
    "\n",
    "- *Animals*\n",
    "   - Cat = `[1, 0, 0, 0]`\n",
    "   - Dog = `[0, 1, 0, 0]`\n",
    "   - Fish = `[0, 0, 1, 0]`\n",
    "   - Bird = `[0, 0, 0, 1]`\n",
    "\n",
    "### Important Points\n",
    "   - One Hot Encoding is used for labels (categories).\n",
    "   - It makes sure that the machine learning model understands each category separately.\n"
   ]
  },
  {
   "cell_type": "markdown",
   "metadata": {},
   "source": [
    "----------------------------"
   ]
  },
  {
   "cell_type": "markdown",
   "metadata": {},
   "source": [
    "# Advantages and Disadvantages of One Hot Encoding\n",
    "\n",
    "## Advantages\n",
    "\n",
    "1. **Simple and Easy to Understand**\n",
    "   - One Hot Encoding is straightforward. Each category is uniquely represented by a combination of `0`s and `1`s.\n",
    "\n",
    "2. **No Ordinal Relationship**\n",
    "   - It does not assume any order or ranking among categories, which is great for non-numeric data like colors, animals, or fruits.\n",
    "\n",
    "3. **Machine Learning Compatibility**\n",
    "   - Many machine learning models, such as logistic regression and neural networks, perform better with One Hot Encoded data compared to raw text or labels.\n",
    "\n",
    "4. **Avoids Numerical Misinterpretation**\n",
    "   - It prevents the algorithm from misinterpreting categories as numerical values (e.g., interpreting \"dog\" as greater than \"cat\" if you assigned 1 to \"dog\" and 0 to \"cat\").\n",
    "\n",
    "5. **Handles Multiple Categories**\n",
    "   - It works well with multiple categories by assigning a unique binary vector to each.\n",
    "\n",
    "## Disadvantages\n",
    "\n",
    "1. **High Memory Usage**\n",
    "   - When the number of categories increases, the size of the resulting matrix also increases. This can lead to high memory usage and computation costs, especially for datasets with thousands of categories.\n",
    "\n",
    "2. **Sparse Representation**\n",
    "   - One Hot Encoding creates sparse vectors (many zeros), which can be inefficient for storage and processing.\n",
    "\n",
    "3. **Curse of Dimensionality**\n",
    "   - With a large number of categories, the feature space (number of columns) becomes very large, leading to the \"curse of dimensionality,\" which can negatively impact model performance.\n",
    "\n",
    "4. **Cannot Capture Relationships**\n",
    "   - One Hot Encoding does not capture any relationship between categories. For example, it cannot represent that \"cat\" and \"dog\" are more similar to each other than \"fish\" is to \"dog.\"\n",
    "\n",
    "5. **Not Suitable for High-Cardinality Categorical Data**\n",
    "   - For categorical data with a high number of unique values (e.g., ZIP codes), One Hot Encoding becomes impractical as it results in a large number of features.\n"
   ]
  },
  {
   "cell_type": "markdown",
   "metadata": {},
   "source": [
    "------------------"
   ]
  },
  {
   "cell_type": "code",
   "execution_count": 1,
   "metadata": {},
   "outputs": [],
   "source": [
    "fruits = [\"apple\", \"banana\", \"cherry\", \"apple\", \"banana\", \"cherry\", \"banana\"]"
   ]
  },
  {
   "cell_type": "code",
   "execution_count": 2,
   "metadata": {},
   "outputs": [],
   "source": [
    "unique_fruits = list(set(fruits))\n",
    "# unique_fruits: ['apple', 'banana', 'cherry']"
   ]
  },
  {
   "cell_type": "code",
   "execution_count": 4,
   "metadata": {},
   "outputs": [
    {
     "data": {
      "text/html": [
       "<div>\n",
       "<style scoped>\n",
       "    .dataframe tbody tr th:only-of-type {\n",
       "        vertical-align: middle;\n",
       "    }\n",
       "\n",
       "    .dataframe tbody tr th {\n",
       "        vertical-align: top;\n",
       "    }\n",
       "\n",
       "    .dataframe thead th {\n",
       "        text-align: right;\n",
       "    }\n",
       "</style>\n",
       "<table border=\"1\" class=\"dataframe\">\n",
       "  <thead>\n",
       "    <tr style=\"text-align: right;\">\n",
       "      <th></th>\n",
       "      <th>banana</th>\n",
       "      <th>apple</th>\n",
       "      <th>cherry</th>\n",
       "    </tr>\n",
       "  </thead>\n",
       "  <tbody>\n",
       "    <tr>\n",
       "      <th>0</th>\n",
       "      <td>0</td>\n",
       "      <td>1</td>\n",
       "      <td>0</td>\n",
       "    </tr>\n",
       "    <tr>\n",
       "      <th>1</th>\n",
       "      <td>1</td>\n",
       "      <td>0</td>\n",
       "      <td>0</td>\n",
       "    </tr>\n",
       "    <tr>\n",
       "      <th>2</th>\n",
       "      <td>0</td>\n",
       "      <td>0</td>\n",
       "      <td>1</td>\n",
       "    </tr>\n",
       "    <tr>\n",
       "      <th>3</th>\n",
       "      <td>0</td>\n",
       "      <td>1</td>\n",
       "      <td>0</td>\n",
       "    </tr>\n",
       "    <tr>\n",
       "      <th>4</th>\n",
       "      <td>1</td>\n",
       "      <td>0</td>\n",
       "      <td>0</td>\n",
       "    </tr>\n",
       "    <tr>\n",
       "      <th>5</th>\n",
       "      <td>0</td>\n",
       "      <td>0</td>\n",
       "      <td>1</td>\n",
       "    </tr>\n",
       "    <tr>\n",
       "      <th>6</th>\n",
       "      <td>1</td>\n",
       "      <td>0</td>\n",
       "      <td>0</td>\n",
       "    </tr>\n",
       "  </tbody>\n",
       "</table>\n",
       "</div>"
      ],
      "text/plain": [
       "  banana apple cherry\n",
       "0      0     1      0\n",
       "1      1     0      0\n",
       "2      0     0      1\n",
       "3      0     1      0\n",
       "4      1     0      0\n",
       "5      0     0      1\n",
       "6      1     0      0"
      ]
     },
     "execution_count": 4,
     "metadata": {},
     "output_type": "execute_result"
    }
   ],
   "source": [
    "import pandas as pd\n",
    "\n",
    "# Create a DataFrame to hold the One Hot Encoded values\n",
    "one_hot_encoded_df = pd.DataFrame(columns=unique_fruits)\n",
    "\n",
    "# One Hot Encoding process\n",
    "for fruit in fruits:\n",
    "    # Create a Series with 1 for the current fruit and 0 for others\n",
    "    one_hot_row = pd.Series([1 if f == fruit else 0 for f in unique_fruits], index=unique_fruits)\n",
    "    \n",
    "    # Concatenate the new row to the existing DataFrame\n",
    "    one_hot_encoded_df = pd.concat([one_hot_encoded_df, one_hot_row.to_frame().T], ignore_index=True)\n",
    "\n",
    "# Display the One Hot Encoded DataFrame\n",
    "one_hot_encoded_df.columns = unique_fruits\n",
    "one_hot_encoded_df\n"
   ]
  },
  {
   "cell_type": "code",
   "execution_count": null,
   "metadata": {},
   "outputs": [],
   "source": []
  }
 ],
 "metadata": {
  "kernelspec": {
   "display_name": "FirstsVenv",
   "language": "python",
   "name": "python3"
  },
  "language_info": {
   "codemirror_mode": {
    "name": "ipython",
    "version": 3
   },
   "file_extension": ".py",
   "mimetype": "text/x-python",
   "name": "python",
   "nbconvert_exporter": "python",
   "pygments_lexer": "ipython3",
   "version": "3.12.4"
  }
 },
 "nbformat": 4,
 "nbformat_minor": 2
}
