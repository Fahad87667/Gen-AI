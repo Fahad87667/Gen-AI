{
 "cells": [
  {
   "cell_type": "code",
   "execution_count": 2,
   "metadata": {},
   "outputs": [],
   "source": [
    "corpus = \"Artificial intelligence has rapidly evolved in recent years, impacting various industries from healthcare to finance. With the ability to process vast amounts of data, AI systems can assist in decision-making, automate tasks, and even predict outcomes with impressive accuracy. As companies continue to adopt AI technologies, the demand for skilled professionals in data science, machine learning, and AI development has grown significantly. However, with these advancements come ethical concerns, such as the potential for job displacement and the need for unbiased algorithms that ensure fairness and transparency.\""
   ]
  },
  {
   "cell_type": "code",
   "execution_count": 13,
   "metadata": {},
   "outputs": [],
   "source": [
    "## Tokenisation\n",
    "#@ Sentences into Paragraphs\n",
    "import nltk\n",
    "from nltk.tokenize import sent_tokenize"
   ]
  },
  {
   "cell_type": "code",
   "execution_count": 14,
   "metadata": {},
   "outputs": [
    {
     "name": "stderr",
     "output_type": "stream",
     "text": [
      "[nltk_data] Downloading package punkt_tab to\n",
      "[nltk_data]     C:\\Users\\Lenovo\\AppData\\Roaming\\nltk_data...\n",
      "[nltk_data]   Package punkt_tab is already up-to-date!\n"
     ]
    },
    {
     "data": {
      "text/plain": [
       "True"
      ]
     },
     "execution_count": 14,
     "metadata": {},
     "output_type": "execute_result"
    }
   ],
   "source": [
    "nltk.download('punkt_tab')"
   ]
  },
  {
   "cell_type": "code",
   "execution_count": 15,
   "metadata": {},
   "outputs": [],
   "source": [
    "documents = sent_tokenize(corpus)"
   ]
  },
  {
   "cell_type": "code",
   "execution_count": 16,
   "metadata": {},
   "outputs": [
    {
     "data": {
      "text/plain": [
       "list"
      ]
     },
     "execution_count": 16,
     "metadata": {},
     "output_type": "execute_result"
    }
   ],
   "source": [
    "type(documents)"
   ]
  },
  {
   "cell_type": "code",
   "execution_count": 17,
   "metadata": {},
   "outputs": [
    {
     "name": "stdout",
     "output_type": "stream",
     "text": [
      "Artificial intelligence has rapidly evolved in recent years, impacting various industries from healthcare to finance.\n",
      "With the ability to process vast amounts of data, AI systems can assist in decision-making, automate tasks, and even predict outcomes with impressive accuracy.\n",
      "As companies continue to adopt AI technologies, the demand for skilled professionals in data science, machine learning, and AI development has grown significantly.\n",
      "However, with these advancements come ethical concerns, such as the potential for job displacement and the need for unbiased algorithms that ensure fairness and transparency.\n"
     ]
    }
   ],
   "source": [
    "sent = []\n",
    "for sentences in documents:\n",
    "    print(sentences)\n",
    "    sent.append(sentences)"
   ]
  },
  {
   "cell_type": "code",
   "execution_count": 18,
   "metadata": {},
   "outputs": [
    {
     "data": {
      "text/plain": [
       "['Artificial intelligence has rapidly evolved in recent years, impacting various industries from healthcare to finance.',\n",
       " 'With the ability to process vast amounts of data, AI systems can assist in decision-making, automate tasks, and even predict outcomes with impressive accuracy.',\n",
       " 'As companies continue to adopt AI technologies, the demand for skilled professionals in data science, machine learning, and AI development has grown significantly.',\n",
       " 'However, with these advancements come ethical concerns, such as the potential for job displacement and the need for unbiased algorithms that ensure fairness and transparency.']"
      ]
     },
     "execution_count": 18,
     "metadata": {},
     "output_type": "execute_result"
    }
   ],
   "source": [
    "sent"
   ]
  },
  {
   "cell_type": "code",
   "execution_count": 19,
   "metadata": {},
   "outputs": [
    {
     "data": {
      "text/plain": [
       "['Artificial',\n",
       " 'intelligence',\n",
       " 'has',\n",
       " 'rapidly',\n",
       " 'evolved',\n",
       " 'in',\n",
       " 'recent',\n",
       " 'years',\n",
       " ',',\n",
       " 'impacting',\n",
       " 'various',\n",
       " 'industries',\n",
       " 'from',\n",
       " 'healthcare',\n",
       " 'to',\n",
       " 'finance',\n",
       " '.',\n",
       " 'With',\n",
       " 'the',\n",
       " 'ability',\n",
       " 'to',\n",
       " 'process',\n",
       " 'vast',\n",
       " 'amounts',\n",
       " 'of',\n",
       " 'data',\n",
       " ',',\n",
       " 'AI',\n",
       " 'systems',\n",
       " 'can',\n",
       " 'assist',\n",
       " 'in',\n",
       " 'decision-making',\n",
       " ',',\n",
       " 'automate',\n",
       " 'tasks',\n",
       " ',',\n",
       " 'and',\n",
       " 'even',\n",
       " 'predict',\n",
       " 'outcomes',\n",
       " 'with',\n",
       " 'impressive',\n",
       " 'accuracy',\n",
       " '.',\n",
       " 'As',\n",
       " 'companies',\n",
       " 'continue',\n",
       " 'to',\n",
       " 'adopt',\n",
       " 'AI',\n",
       " 'technologies',\n",
       " ',',\n",
       " 'the',\n",
       " 'demand',\n",
       " 'for',\n",
       " 'skilled',\n",
       " 'professionals',\n",
       " 'in',\n",
       " 'data',\n",
       " 'science',\n",
       " ',',\n",
       " 'machine',\n",
       " 'learning',\n",
       " ',',\n",
       " 'and',\n",
       " 'AI',\n",
       " 'development',\n",
       " 'has',\n",
       " 'grown',\n",
       " 'significantly',\n",
       " '.',\n",
       " 'However',\n",
       " ',',\n",
       " 'with',\n",
       " 'these',\n",
       " 'advancements',\n",
       " 'come',\n",
       " 'ethical',\n",
       " 'concerns',\n",
       " ',',\n",
       " 'such',\n",
       " 'as',\n",
       " 'the',\n",
       " 'potential',\n",
       " 'for',\n",
       " 'job',\n",
       " 'displacement',\n",
       " 'and',\n",
       " 'the',\n",
       " 'need',\n",
       " 'for',\n",
       " 'unbiased',\n",
       " 'algorithms',\n",
       " 'that',\n",
       " 'ensure',\n",
       " 'fairness',\n",
       " 'and',\n",
       " 'transparency',\n",
       " '.']"
      ]
     },
     "execution_count": 19,
     "metadata": {},
     "output_type": "execute_result"
    }
   ],
   "source": [
    "## Paragraph into words\n",
    "## sentences into words\n",
    "from nltk.tokenize import word_tokenize\n",
    "word_tokenize(corpus)\n"
   ]
  },
  {
   "cell_type": "code",
   "execution_count": 20,
   "metadata": {},
   "outputs": [
    {
     "name": "stdout",
     "output_type": "stream",
     "text": [
      "['Artificial', 'intelligence', 'has', 'rapidly', 'evolved', 'in', 'recent', 'years', ',', 'impacting', 'various', 'industries', 'from', 'healthcare', 'to', 'finance', '.']\n",
      "['With', 'the', 'ability', 'to', 'process', 'vast', 'amounts', 'of', 'data', ',', 'AI', 'systems', 'can', 'assist', 'in', 'decision-making', ',', 'automate', 'tasks', ',', 'and', 'even', 'predict', 'outcomes', 'with', 'impressive', 'accuracy', '.']\n",
      "['As', 'companies', 'continue', 'to', 'adopt', 'AI', 'technologies', ',', 'the', 'demand', 'for', 'skilled', 'professionals', 'in', 'data', 'science', ',', 'machine', 'learning', ',', 'and', 'AI', 'development', 'has', 'grown', 'significantly', '.']\n",
      "['However', ',', 'with', 'these', 'advancements', 'come', 'ethical', 'concerns', ',', 'such', 'as', 'the', 'potential', 'for', 'job', 'displacement', 'and', 'the', 'need', 'for', 'unbiased', 'algorithms', 'that', 'ensure', 'fairness', 'and', 'transparency', '.']\n"
     ]
    }
   ],
   "source": [
    "for sentences in documents:\n",
    "    print(word_tokenize(sentences))"
   ]
  },
  {
   "cell_type": "code",
   "execution_count": 21,
   "metadata": {},
   "outputs": [],
   "source": [
    "## We use tree , so that it will not use the fullstops or commas as separate word but the last stop.\n",
    "from nltk.tokenize import TreebankWordTokenizer\n",
    "tree = TreebankWordTokenizer()"
   ]
  },
  {
   "cell_type": "code",
   "execution_count": 22,
   "metadata": {},
   "outputs": [
    {
     "data": {
      "text/plain": [
       "['Artificial',\n",
       " 'intelligence',\n",
       " 'has',\n",
       " 'rapidly',\n",
       " 'evolved',\n",
       " 'in',\n",
       " 'recent',\n",
       " 'years',\n",
       " ',',\n",
       " 'impacting',\n",
       " 'various',\n",
       " 'industries',\n",
       " 'from',\n",
       " 'healthcare',\n",
       " 'to',\n",
       " 'finance.',\n",
       " 'With',\n",
       " 'the',\n",
       " 'ability',\n",
       " 'to',\n",
       " 'process',\n",
       " 'vast',\n",
       " 'amounts',\n",
       " 'of',\n",
       " 'data',\n",
       " ',',\n",
       " 'AI',\n",
       " 'systems',\n",
       " 'can',\n",
       " 'assist',\n",
       " 'in',\n",
       " 'decision-making',\n",
       " ',',\n",
       " 'automate',\n",
       " 'tasks',\n",
       " ',',\n",
       " 'and',\n",
       " 'even',\n",
       " 'predict',\n",
       " 'outcomes',\n",
       " 'with',\n",
       " 'impressive',\n",
       " 'accuracy.',\n",
       " 'As',\n",
       " 'companies',\n",
       " 'continue',\n",
       " 'to',\n",
       " 'adopt',\n",
       " 'AI',\n",
       " 'technologies',\n",
       " ',',\n",
       " 'the',\n",
       " 'demand',\n",
       " 'for',\n",
       " 'skilled',\n",
       " 'professionals',\n",
       " 'in',\n",
       " 'data',\n",
       " 'science',\n",
       " ',',\n",
       " 'machine',\n",
       " 'learning',\n",
       " ',',\n",
       " 'and',\n",
       " 'AI',\n",
       " 'development',\n",
       " 'has',\n",
       " 'grown',\n",
       " 'significantly.',\n",
       " 'However',\n",
       " ',',\n",
       " 'with',\n",
       " 'these',\n",
       " 'advancements',\n",
       " 'come',\n",
       " 'ethical',\n",
       " 'concerns',\n",
       " ',',\n",
       " 'such',\n",
       " 'as',\n",
       " 'the',\n",
       " 'potential',\n",
       " 'for',\n",
       " 'job',\n",
       " 'displacement',\n",
       " 'and',\n",
       " 'the',\n",
       " 'need',\n",
       " 'for',\n",
       " 'unbiased',\n",
       " 'algorithms',\n",
       " 'that',\n",
       " 'ensure',\n",
       " 'fairness',\n",
       " 'and',\n",
       " 'transparency',\n",
       " '.']"
      ]
     },
     "execution_count": 22,
     "metadata": {},
     "output_type": "execute_result"
    }
   ],
   "source": [
    "tree.tokenize(corpus) "
   ]
  },
  {
   "cell_type": "code",
   "execution_count": 23,
   "metadata": {},
   "outputs": [],
   "source": [
    "# Tokenisation"
   ]
  },
  {
   "cell_type": "code",
   "execution_count": null,
   "metadata": {},
   "outputs": [],
   "source": []
  }
 ],
 "metadata": {
  "kernelspec": {
   "display_name": "FirstsVenv",
   "language": "python",
   "name": "python3"
  },
  "language_info": {
   "codemirror_mode": {
    "name": "ipython",
    "version": 3
   },
   "file_extension": ".py",
   "mimetype": "text/x-python",
   "name": "python",
   "nbconvert_exporter": "python",
   "pygments_lexer": "ipython3",
   "version": "3.12.4"
  }
 },
 "nbformat": 4,
 "nbformat_minor": 2
}
