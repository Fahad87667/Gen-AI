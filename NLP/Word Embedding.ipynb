{
 "cells": [
  {
   "cell_type": "markdown",
   "metadata": {},
   "source": [
    "# Word Embedding\n",
    "- Word embedding in NLP is an important term that is used for representing words for text analysis in the form of real-valued vectors. It is an advancement in NLP that has improved the ability of computers to understand text-based content in a better way. It is considered one of the most significant breakthroughs of deep learning for solving challenging natural language processing problems.\n",
    "\n",
    "---------"
   ]
  },
  {
   "cell_type": "markdown",
   "metadata": {},
   "source": [
    "# Word Embedding\n",
    "- Count Frequency\n",
    "    - One Hot Encoding\n",
    "    - BOW\n",
    "    - TF-IDF\n",
    "\n",
    "- Deep Learning Trained Models\n",
    "    - Word2vec\n",
    "        - CBOW (Continuos Bag Of words)\n",
    "        - Skipgram\n",
    "\n",
    "------"
   ]
  },
  {
   "cell_type": "markdown",
   "metadata": {},
   "source": [
    "## 1. Introduction to Word2Vec\n",
    "Word2Vec is a method to create word embeddings that map words into high-dimensional vectors. It captures semantic meanings by placing words with similar meanings close to each other in the vector space.\n",
    "\n",
    "- **Use Case**: Converts text into numerical format for NLP tasks such as text classification, sentiment analysis, and more.\n",
    "- **Approach**: Shallow neural networks learn word relationships based on their contexts in a large text corpus.\n",
    "\n",
    "---\n",
    "\n",
    "## 2. Types of Word2Vec Models\n",
    "\n",
    "### 2.1 Continuous Bag-of-Words (CBOW)  { Fully Connected Neural Layer}\n",
    "- **Objective**: Predict the target word using its surrounding context words.\n",
    "- **Example**: Given the context [\"learning\", \"is\", \"fun\"], the model should predict the word \"machine\".\n",
    "- **Advantage**: Efficient for smaller datasets.\n",
    "  \n"
   ]
  },
  {
   "cell_type": "markdown",
   "metadata": {},
   "source": [
    "\n",
    "### 2.2 Skip-Gram\n",
    "- **Objective**: Predict context words given a target word.\n",
    "- **Example**: Given the target word \"machine\", the model should predict context words like \"learning\", \"is\", \"fun\".\n",
    "- **Advantage**: Suitable for larger datasets and learning rare words.\n",
    "\n"
   ]
  },
  {
   "cell_type": "markdown",
   "metadata": {},
   "source": [
    "## 3. Key Hyperparameters\n",
    "\n",
    "- **`vector_size`**: Dimensionality of word embeddings (e.g., 50, 100, 300).\n",
    "- **`window`**: Maximum distance between the current and predicted word in a sentence.\n",
    "- **`min_count`**: Ignores words with total frequency lower than this value.\n",
    "- **`sg`**: 0 for CBOW, 1 for Skip-Gram.\n",
    "- **`epochs`**: Number of iterations over the corpus.\n",
    "\n",
    "---\n",
    "\n",
    "\n",
    "#### To improve accuracy\n",
    "- increase training dataset\n",
    "- increase window size prefer odd number to get middle words easily"
   ]
  },
  {
   "cell_type": "code",
   "execution_count": null,
   "metadata": {},
   "outputs": [],
   "source": []
  }
 ],
 "metadata": {
  "language_info": {
   "name": "python"
  }
 },
 "nbformat": 4,
 "nbformat_minor": 2
}
