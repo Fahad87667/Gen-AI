{
 "cells": [
  {
   "cell_type": "markdown",
   "metadata": {},
   "source": [
    "# Natural Language Processing\n"
   ]
  },
  {
   "cell_type": "markdown",
   "metadata": {},
   "source": [
    "#### Text Preprocessing\n",
    "1. CLEANING THE INPUT\n",
    "\n",
    "- Tokenization\n",
    "- Lemmetization\n",
    "- Stopwards\n",
    "\n",
    "2. CONVERT INPUT TEXT INTO VECTORS\n",
    "\n",
    "- BOW ( Bag of words) \n",
    "- TFIDF\n",
    "- Unigram\n",
    "- Bigram\n",
    "\n",
    "3. Optimal CONVERSION INPUT TEXT INTO VECTORS\n",
    "\n",
    "- Word2rec\n",
    "- Avgword2rec\n",
    "- Word embedding\n",
    "- One Hot Encoding\n",
    "\n",
    "#### Neural Networks\n",
    "- RNN\n",
    "- LSTM RNN\n",
    "- GRU RNN\n",
    "\n",
    "#### Transformers\n",
    "\n",
    "#### BERT"
   ]
  },
  {
   "cell_type": "markdown",
   "metadata": {},
   "source": [
    "------------------------------------------------------------------------------------------------------------------------------------------------------"
   ]
  },
  {
   "cell_type": "markdown",
   "metadata": {},
   "source": [
    "## Tokenization { Tokens --> Sentences}\n",
    "-- Converting paragraphs into sentences then into words.\n",
    "\n",
    "1. **Corpus**       --> PARAGRAPH\n",
    "2. **Documents**    --> Sentences\n",
    "3. **Vocabulary**   --> Unique words\n",
    "4. **Words**\n"
   ]
  },
  {
   "cell_type": "markdown",
   "metadata": {},
   "source": [
    "------------------------------------------------------------------------------------------------------------------------------------------------------"
   ]
  },
  {
   "cell_type": "markdown",
   "metadata": {},
   "source": [
    "## Flow\n",
    "\n",
    "1. Dataset\n",
    "\n",
    "2. Text Preprocessing\n",
    "\n",
    "- Tokenization\n",
    "- lower case\n",
    "- Regular Expression\n",
    "\n",
    "3. Tex Preprocessing - 2\n",
    "\n",
    "- Stemming\n",
    "- Lemmetization\n",
    "- stopwords\n",
    "- Parts Of Speech\n",
    "\n",
    "4. Text - to - Vectors\n",
    "\n",
    "- BOW ( Bag of words) \n",
    "- TFIDF\n",
    "- Unigram\n",
    "- Bigram\n",
    "- Word2rec\n",
    "- Avgword2rec\n",
    "- Word embedding\n",
    "- One Hot Encoding\n",
    "\n",
    "5. ML Algorithms"
   ]
  },
  {
   "cell_type": "markdown",
   "metadata": {},
   "source": []
  },
  {
   "cell_type": "markdown",
   "metadata": {},
   "source": [
    "------------------------------------------------------------------------------------------------------------------------------------------------------"
   ]
  },
  {
   "cell_type": "markdown",
   "metadata": {},
   "source": []
  }
 ],
 "metadata": {
  "kernelspec": {
   "display_name": "FirstsVenv",
   "language": "python",
   "name": "python3"
  },
  "language_info": {
   "codemirror_mode": {
    "name": "ipython",
    "version": 3
   },
   "file_extension": ".py",
   "mimetype": "text/x-python",
   "name": "python",
   "nbconvert_exporter": "python",
   "pygments_lexer": "ipython3",
   "version": "3.12.4"
  }
 },
 "nbformat": 4,
 "nbformat_minor": 2
}
